{
 "cells": [
  {
   "cell_type": "markdown",
   "id": "e85e9ee9-ac6b-490b-b4aa-ac55e7d44941",
   "metadata": {},
   "source": [
    "# Text Analytics\n",
    "- \tExtract Sample document and apply following document preprocessing methods: Tokenization, POS Tagging, stop words removal, Stemming and Lemmatization.\n",
    "- \tCreate representation of document by calculating Term Frequency and Inverse Document Frequency\n"
   ]
  },
  {
   "cell_type": "code",
   "execution_count": 11,
   "id": "71ab141b-10b0-4ce1-9f13-5f8ab8f2835b",
   "metadata": {},
   "outputs": [],
   "source": [
    "import nltk,re"
   ]
  },
  {
   "cell_type": "code",
   "execution_count": 12,
   "id": "b66754cd-7748-4f78-b27f-4b35bc9532fc",
   "metadata": {},
   "outputs": [],
   "source": [
    "with open('doc.txt', 'r') as file:\n",
    "    doc = file.read()\n"
   ]
  },
  {
   "cell_type": "code",
   "execution_count": 13,
   "id": "12439b05-35c1-4f05-8373-6462a690daec",
   "metadata": {},
   "outputs": [
    {
     "data": {
      "text/plain": [
       "\"Mumbai Indians,the IPL (Indian Premier League) cricket team. The Mumbai Indians (MI) are one of the most successful and popular teams in the IPL, owned by Mukesh Ambani's Reliance Industries. They have won the IPL title multiple times, with star players like Rohit Sharma, Jasprit Bumrah, and Kieron Pollard being part of their squad.\""
      ]
     },
     "execution_count": 13,
     "metadata": {},
     "output_type": "execute_result"
    }
   ],
   "source": [
    "doc"
   ]
  },
  {
   "cell_type": "markdown",
   "id": "b205a0e8-6527-4afd-80b4-f634d6afbe95",
   "metadata": {},
   "source": [
    "# Tokenization\n",
    "Tokenization is the process of breaking down a text into individual words or tokens. This is often the first step in natural language processing tasks"
   ]
  },
  {
   "cell_type": "code",
   "execution_count": 14,
   "id": "5a22e780-885f-4462-9482-13167753a63e",
   "metadata": {},
   "outputs": [
    {
     "name": "stdout",
     "output_type": "stream",
     "text": [
      "['Mumbai', 'Indians', ',', 'the', 'IPL', '(', 'Indian', 'Premier', 'League', ')', 'cricket', 'team', '.', 'The', 'Mumbai', 'Indians', '(', 'MI', ')', 'are', 'one', 'of', 'the', 'most', 'successful', 'and', 'popular', 'teams', 'in', 'the', 'IPL', ',', 'owned', 'by', 'Mukesh', 'Ambani', \"'s\", 'Reliance', 'Industries', '.', 'They', 'have', 'won', 'the', 'IPL', 'title', 'multiple', 'times', ',', 'with', 'star', 'players', 'like', 'Rohit', 'Sharma', ',', 'Jasprit', 'Bumrah', ',', 'and', 'Kieron', 'Pollard', 'being', 'part', 'of', 'their', 'squad', '.']\n"
     ]
    }
   ],
   "source": [
    "word_tokens = nltk.word_tokenize(doc)\n",
    "print(word_tokens)"
   ]
  },
  {
   "cell_type": "markdown",
   "id": "4224324c-fdf9-4978-af72-2e54748cf5cd",
   "metadata": {},
   "source": [
    "# Stop Words\n",
    "Stop words are common words like 'the', 'is', 'and', etc., which often do not carry significant meaning in text analysis. Remove these stop words from the text to focus on the more meaningful content."
   ]
  },
  {
   "cell_type": "code",
   "execution_count": 15,
   "id": "48297fc5-1bfa-4049-8f6a-97a6920dc8f2",
   "metadata": {},
   "outputs": [
    {
     "name": "stdout",
     "output_type": "stream",
     "text": [
      "['Mumbai', 'Indians', ',', 'IPL', '(', 'Indian', 'Premier', 'League', ')', 'cricket', 'team', '.', 'The', 'Mumbai', 'Indians', '(', 'MI', ')', 'one', 'successful', 'popular', 'teams', 'IPL', ',', 'owned', 'Mukesh', 'Ambani', \"'s\", 'Reliance', 'Industries', '.', 'They', 'IPL', 'title', 'multiple', 'times', ',', 'star', 'players', 'like', 'Rohit', 'Sharma', ',', 'Jasprit', 'Bumrah', ',', 'Kieron', 'Pollard', 'part', 'squad', '.']\n"
     ]
    }
   ],
   "source": [
    "stop_words = set(nltk.corpus.stopwords.words('english'))\n",
    "word_tokens = [token for token in word_tokens if token not in stop_words]\n",
    "print(word_tokens)"
   ]
  },
  {
   "cell_type": "markdown",
   "id": "b3ac8df9-702a-4f52-96ee-2ae36481708e",
   "metadata": {},
   "source": [
    "# POS Tagging\n",
    "POS tagging involves labeling each word in a sentence with its corresponding part of speech, such as noun, verb, adjective, etc."
   ]
  },
  {
   "cell_type": "code",
   "execution_count": 18,
   "id": "4318f876-a757-48df-9553-a1728e79ee61",
   "metadata": {},
   "outputs": [
    {
     "name": "stdout",
     "output_type": "stream",
     "text": [
      "[('Mumbai', 'NNP'), ('Indians', 'NNPS'), (',', ','), ('IPL', 'NNP'), ('(', '('), ('Indian', 'JJ'), ('Premier', 'NNP'), ('League', 'NNP'), (')', ')'), ('cricket', 'NN'), ('team', 'NN'), ('.', '.'), ('The', 'DT'), ('Mumbai', 'NNP'), ('Indians', 'NNPS'), ('(', '('), ('MI', 'NNP'), (')', ')'), ('one', 'CD'), ('successful', 'JJ'), ('popular', 'JJ'), ('teams', 'NNS'), ('IPL', 'NNP'), (',', ','), ('owned', 'VBD'), ('Mukesh', 'NNP'), ('Ambani', 'NNP'), (\"'s\", 'POS'), ('Reliance', 'NNP'), ('Industries', 'NNPS'), ('.', '.'), ('They', 'PRP'), ('IPL', 'NNP'), ('title', 'NN'), ('multiple', 'JJ'), ('times', 'NNS'), (',', ','), ('star', 'NN'), ('players', 'NNS'), ('like', 'IN'), ('Rohit', 'NNP'), ('Sharma', 'NNP'), (',', ','), ('Jasprit', 'NNP'), ('Bumrah', 'NNP'), (',', ','), ('Kieron', 'NNP'), ('Pollard', 'NNP'), ('part', 'NN'), ('squad', 'NN'), ('.', '.')]\n"
     ]
    }
   ],
   "source": [
    "tagged = nltk.pos_tag(word_tokens)\n",
    "print(tagged)"
   ]
  },
  {
   "cell_type": "markdown",
   "id": "89dfd993-eb24-44e8-a75f-892c1322129a",
   "metadata": {},
   "source": [
    "# Lemmatization\n"
   ]
  },
  {
   "cell_type": "code",
   "execution_count": 19,
   "id": "2d626879-6188-4a2e-be99-daf81629d640",
   "metadata": {},
   "outputs": [
    {
     "name": "stdout",
     "output_type": "stream",
     "text": [
      "['Mumbai', 'Indians', ',', 'IPL', '(', 'Indian', 'Premier', 'League', ')', 'cricket', 'team', '.', 'The', 'Mumbai', 'Indians', '(', 'MI', ')', 'one', 'successful', 'popular', 'team', 'IPL', ',', 'owned', 'Mukesh', 'Ambani', \"'s\", 'Reliance', 'Industries', '.', 'They', 'IPL', 'title', 'multiple', 'time', ',', 'star', 'player', 'like', 'Rohit', 'Sharma', ',', 'Jasprit', 'Bumrah', ',', 'Kieron', 'Pollard', 'part', 'squad', '.']\n"
     ]
    }
   ],
   "source": [
    "lemmatizer = nltk.stem.WordNetLemmatizer()\n",
    "lemmatized_tokens = [lemmatizer.lemmatize(token) for token in word_tokens]\n",
    "print(lemmatized_tokens)"
   ]
  },
  {
   "cell_type": "markdown",
   "id": "6d5a34d1-1995-4fd6-afd2-0750f9fb0cec",
   "metadata": {},
   "source": [
    "# Stemming"
   ]
  },
  {
   "cell_type": "code",
   "execution_count": 20,
   "id": "8cd36d14-d4ed-4a4a-9afa-a08e6fd1ccaa",
   "metadata": {},
   "outputs": [
    {
     "name": "stdout",
     "output_type": "stream",
     "text": [
      "['mumbai', 'indian', ',', 'ipl', '(', 'indian', 'premier', 'leagu', ')', 'cricket', 'team', '.', 'the', 'mumbai', 'indian', '(', 'mi', ')', 'one', 'success', 'popular', 'team', 'ipl', ',', 'own', 'mukesh', 'ambani', \"'s\", 'relianc', 'industri', '.', 'they', 'ipl', 'titl', 'multipl', 'time', ',', 'star', 'player', 'like', 'rohit', 'sharma', ',', 'jasprit', 'bumrah', ',', 'kieron', 'pollard', 'part', 'squad', '.']\n"
     ]
    }
   ],
   "source": [
    "stemmer = nltk.stem.PorterStemmer()\n",
    "stemmed_tokens = [stemmer.stem(token) for token in word_tokens]\n",
    "print(stemmed_tokens)"
   ]
  },
  {
   "cell_type": "markdown",
   "id": "f67a786d-6cc3-40d5-a744-1ee4f7426360",
   "metadata": {},
   "source": [
    "# TF-IDF"
   ]
  },
  {
   "cell_type": "code",
   "execution_count": 21,
   "id": "62d5d7b7-f4ca-48a7-bfb2-dc115c3e30a1",
   "metadata": {},
   "outputs": [],
   "source": [
    "def calculate_term_freq(doc):\n",
    "    word_tokens = nltk.word_tokenize(doc)\n",
    "    tf_dict = dict()\n",
    "    for word in word_tokens:\n",
    "        tf_dict[word] = word_tokens.count(word)\n",
    "    tf = dict()\n",
    "    for word, count in tf_dict.items():\n",
    "        tf[word] = count/len(tf_dict)\n",
    "    return tf"
   ]
  },
  {
   "cell_type": "code",
   "execution_count": 23,
   "id": "6f684c7a-384d-466a-b73e-52c35ba10db3",
   "metadata": {},
   "outputs": [
    {
     "name": "stdout",
     "output_type": "stream",
     "text": [
      "Term Frequency of Doc :  {'Mumbai': 0.0392156862745098, 'Indians': 0.0392156862745098, ',': 0.09803921568627451, 'the': 0.0784313725490196, 'IPL': 0.058823529411764705, '(': 0.0392156862745098, 'Indian': 0.0196078431372549, 'Premier': 0.0196078431372549, 'League': 0.0196078431372549, ')': 0.0392156862745098, 'cricket': 0.0196078431372549, 'team': 0.0196078431372549, '.': 0.058823529411764705, 'The': 0.0196078431372549, 'MI': 0.0196078431372549, 'are': 0.0196078431372549, 'one': 0.0196078431372549, 'of': 0.0392156862745098, 'most': 0.0196078431372549, 'successful': 0.0196078431372549, 'and': 0.0392156862745098, 'popular': 0.0196078431372549, 'teams': 0.0196078431372549, 'in': 0.0196078431372549, 'owned': 0.0196078431372549, 'by': 0.0196078431372549, 'Mukesh': 0.0196078431372549, 'Ambani': 0.0196078431372549, \"'s\": 0.0196078431372549, 'Reliance': 0.0196078431372549, 'Industries': 0.0196078431372549, 'They': 0.0196078431372549, 'have': 0.0196078431372549, 'won': 0.0196078431372549, 'title': 0.0196078431372549, 'multiple': 0.0196078431372549, 'times': 0.0196078431372549, 'with': 0.0196078431372549, 'star': 0.0196078431372549, 'players': 0.0196078431372549, 'like': 0.0196078431372549, 'Rohit': 0.0196078431372549, 'Sharma': 0.0196078431372549, 'Jasprit': 0.0196078431372549, 'Bumrah': 0.0196078431372549, 'Kieron': 0.0196078431372549, 'Pollard': 0.0196078431372549, 'being': 0.0196078431372549, 'part': 0.0196078431372549, 'their': 0.0196078431372549, 'squad': 0.0196078431372549} \n",
      "\n",
      "\n"
     ]
    }
   ],
   "source": [
    "tf = calculate_term_freq(doc)\n",
    "print(\"Term Frequency of Doc : \", tf, \"\\n\\n\")\n"
   ]
  },
  {
   "cell_type": "code",
   "execution_count": null,
   "id": "0272fde0-adc3-4251-a25b-c9cf1f614625",
   "metadata": {},
   "outputs": [],
   "source": []
  }
 ],
 "metadata": {
  "kernelspec": {
   "display_name": "Python 3 (ipykernel)",
   "language": "python",
   "name": "python3"
  },
  "language_info": {
   "codemirror_mode": {
    "name": "ipython",
    "version": 3
   },
   "file_extension": ".py",
   "mimetype": "text/x-python",
   "name": "python",
   "nbconvert_exporter": "python",
   "pygments_lexer": "ipython3",
   "version": "3.11.3"
  }
 },
 "nbformat": 4,
 "nbformat_minor": 5
}
