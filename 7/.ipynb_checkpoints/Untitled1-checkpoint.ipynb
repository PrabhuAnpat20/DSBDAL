{
 "cells": [
  {
   "cell_type": "code",
   "execution_count": 1,
   "id": "831c0cf5-4809-4d38-8f9f-d42a15426d7b",
   "metadata": {},
   "outputs": [],
   "source": [
    "import nltk"
   ]
  },
  {
   "cell_type": "code",
   "execution_count": 6,
   "id": "012b4f5d-e6cc-40d6-9476-54b4997fd1bc",
   "metadata": {},
   "outputs": [],
   "source": [
    "with open(\"doc.txt\",\"r\") as file:\n",
    "    doc=file.read()"
   ]
  },
  {
   "cell_type": "code",
   "execution_count": 7,
   "id": "383ad053-aefe-4cc1-92e1-bbd88ea2d202",
   "metadata": {},
   "outputs": [
    {
     "data": {
      "text/plain": [
       "\"Mumbai Indians,the IPL (Indian Premier League) cricket team. The Mumbai Indians (MI) are one of the most successful and popular teams in the IPL, owned by Mukesh Ambani's Reliance Industries. They have won the IPL title multiple times, with star players like Rohit Sharma, Jasprit Bumrah, and Kieron Pollard being part of their squad.\""
      ]
     },
     "execution_count": 7,
     "metadata": {},
     "output_type": "execute_result"
    }
   ],
   "source": [
    "doc"
   ]
  },
  {
   "cell_type": "code",
   "execution_count": 10,
   "id": "8a2585ed-3f21-4cd0-958e-673ac22343e3",
   "metadata": {},
   "outputs": [
    {
     "name": "stdout",
     "output_type": "stream",
     "text": [
      "['Mumbai', 'Indians', ',', 'the', 'IPL', '(', 'Indian', 'Premier', 'League', ')', 'cricket', 'team', '.', 'The', 'Mumbai', 'Indians', '(', 'MI', ')', 'are', 'one', 'of', 'the', 'most', 'successful', 'and', 'popular', 'teams', 'in', 'the', 'IPL', ',', 'owned', 'by', 'Mukesh', 'Ambani', \"'s\", 'Reliance', 'Industries', '.', 'They', 'have', 'won', 'the', 'IPL', 'title', 'multiple', 'times', ',', 'with', 'star', 'players', 'like', 'Rohit', 'Sharma', ',', 'Jasprit', 'Bumrah', ',', 'and', 'Kieron', 'Pollard', 'being', 'part', 'of', 'their', 'squad', '.']\n"
     ]
    }
   ],
   "source": [
    "word_tokens=nltk.word_tokenize(doc)\n",
    "print(word_tokens)"
   ]
  },
  {
   "cell_type": "code",
   "execution_count": 11,
   "id": "9bbacf17-f2a3-4fe3-9e53-4e0b3ab213ed",
   "metadata": {},
   "outputs": [
    {
     "name": "stdout",
     "output_type": "stream",
     "text": [
      "['Mumbai', 'Indians', ',', 'IPL', '(', 'Indian', 'Premier', 'League', ')', 'cricket', 'team', '.', 'The', 'Mumbai', 'Indians', '(', 'MI', ')', 'one', 'successful', 'popular', 'teams', 'IPL', ',', 'owned', 'Mukesh', 'Ambani', \"'s\", 'Reliance', 'Industries', '.', 'They', 'IPL', 'title', 'multiple', 'times', ',', 'star', 'players', 'like', 'Rohit', 'Sharma', ',', 'Jasprit', 'Bumrah', ',', 'Kieron', 'Pollard', 'part', 'squad', '.']\n"
     ]
    }
   ],
   "source": [
    "from nltk.corpus import stopwords\n",
    "stop_words=set(stopwords.words('English'))\n",
    "filtered=[]\n",
    "for token in word_tokens:\n",
    "    if token not in stop_words:\n",
    "        filtered.append(token)\n",
    "print(filtered)    "
   ]
  },
  {
   "cell_type": "code",
   "execution_count": 14,
   "id": "4c43954a-2c00-4be4-ac3a-529910e6143a",
   "metadata": {},
   "outputs": [
    {
     "name": "stdout",
     "output_type": "stream",
     "text": [
      "['Mumbai', 'Indians', ',', 'the', 'IPL', '(', 'Indian', 'Premier', 'League', ')', 'cricket', 'team', '.', 'The', 'Mumbai', 'Indians', '(', 'MI', ')', 'are', 'one', 'of', 'the', 'most', 'successful', 'and', 'popular', 'team', 'in', 'the', 'IPL', ',', 'owned', 'by', 'Mukesh', 'Ambani', \"'s\", 'Reliance', 'Industries', '.', 'They', 'have', 'won', 'the', 'IPL', 'title', 'multiple', 'time', ',', 'with', 'star', 'player', 'like', 'Rohit', 'Sharma', ',', 'Jasprit', 'Bumrah', ',', 'and', 'Kieron', 'Pollard', 'being', 'part', 'of', 'their', 'squad', '.']\n"
     ]
    }
   ],
   "source": [
    "from nltk.stem import WordNetLemmatizer\n",
    "lemmatizer=WordNetLemmatizer()\n",
    "lem=[]\n",
    "for token in word_tokens:\n",
    "    word=lemmatizer.lemmatize(token)\n",
    "    lem.append(word)\n",
    "print(lem)\n",
    "\n",
    "    "
   ]
  },
  {
   "cell_type": "code",
   "execution_count": null,
   "id": "e26fe8dc-436b-40b4-b584-d2c8e284388f",
   "metadata": {},
   "outputs": [],
   "source": []
  }
 ],
 "metadata": {
  "kernelspec": {
   "display_name": "Python 3 (ipykernel)",
   "language": "python",
   "name": "python3"
  },
  "language_info": {
   "codemirror_mode": {
    "name": "ipython",
    "version": 3
   },
   "file_extension": ".py",
   "mimetype": "text/x-python",
   "name": "python",
   "nbconvert_exporter": "python",
   "pygments_lexer": "ipython3",
   "version": "3.11.3"
  }
 },
 "nbformat": 4,
 "nbformat_minor": 5
}
