{
 "cells": [
  {
   "cell_type": "code",
   "execution_count": 4,
   "id": "fb4e351b-8e9f-425a-911d-b9c3a9854e73",
   "metadata": {},
   "outputs": [],
   "source": [
    "import nltk"
   ]
  },
  {
   "cell_type": "code",
   "execution_count": 1,
   "id": "a892ce45-e000-4923-8103-b14847cbe130",
   "metadata": {},
   "outputs": [],
   "source": [
    "with open (\"doc.txt\",\"r\") as file:\n",
    "    doc=file.read()"
   ]
  },
  {
   "cell_type": "code",
   "execution_count": 2,
   "id": "f2fbb7cd-273f-4075-ba74-d24d80f7ad52",
   "metadata": {},
   "outputs": [
    {
     "data": {
      "text/plain": [
       "\"Mumbai Indians,the IPL (Indian Premier League) cricket team. The Mumbai Indians (MI) are one of the most successful and popular teams in the IPL, owned by Mukesh Ambani's Reliance Industries. They have won the IPL title multiple times, with star players like Rohit Sharma, Jasprit Bumrah, and Kieron Pollard being part of their squad.\""
      ]
     },
     "execution_count": 2,
     "metadata": {},
     "output_type": "execute_result"
    }
   ],
   "source": [
    "doc"
   ]
  },
  {
   "cell_type": "code",
   "execution_count": 5,
   "id": "9a6b8856-eb65-4f60-aa71-3b456447fe7e",
   "metadata": {},
   "outputs": [
    {
     "name": "stdout",
     "output_type": "stream",
     "text": [
      "['Mumbai', 'Indians', ',', 'the', 'IPL', '(', 'Indian', 'Premier', 'League', ')', 'cricket', 'team', '.', 'The', 'Mumbai', 'Indians', '(', 'MI', ')', 'are', 'one', 'of', 'the', 'most', 'successful', 'and', 'popular', 'teams', 'in', 'the', 'IPL', ',', 'owned', 'by', 'Mukesh', 'Ambani', \"'s\", 'Reliance', 'Industries', '.', 'They', 'have', 'won', 'the', 'IPL', 'title', 'multiple', 'times', ',', 'with', 'star', 'players', 'like', 'Rohit', 'Sharma', ',', 'Jasprit', 'Bumrah', ',', 'and', 'Kieron', 'Pollard', 'being', 'part', 'of', 'their', 'squad', '.']\n"
     ]
    }
   ],
   "source": [
    "tokens=nltk.word_tokenize(doc)\n",
    "print(tokens)"
   ]
  },
  {
   "cell_type": "code",
   "execution_count": 8,
   "id": "25221d94-99e5-44fe-abd7-807ee7b90123",
   "metadata": {},
   "outputs": [
    {
     "name": "stdout",
     "output_type": "stream",
     "text": [
      "['Mumbai', 'Indians', ',', 'IPL', '(', 'Indian', 'Premier', 'League', ')', 'cricket', 'team', '.', 'The', 'Mumbai', 'Indians', '(', 'MI', ')', 'one', 'successful', 'popular', 'teams', 'IPL', ',', 'owned', 'Mukesh', 'Ambani', \"'s\", 'Reliance', 'Industries', '.', 'They', 'IPL', 'title', 'multiple', 'times', ',', 'star', 'players', 'like', 'Rohit', 'Sharma', ',', 'Jasprit', 'Bumrah', ',', 'Kieron', 'Pollard', 'part', 'squad', '.']\n"
     ]
    }
   ],
   "source": [
    "from nltk.corpus import stopwords\n",
    "\n",
    "stop_words=set(stopwords.words(\"English\"))\n",
    "\n",
    "new_token=[]\n",
    "\n",
    "for token in tokens:\n",
    "    if token not in stop_words:\n",
    "        new_token.append(token)\n",
    "print(new_token)        \n",
    "       "
   ]
  },
  {
   "cell_type": "code",
   "execution_count": 10,
   "id": "9638f7ea-0de0-4665-af1e-1b0a66844096",
   "metadata": {},
   "outputs": [
    {
     "name": "stdout",
     "output_type": "stream",
     "text": [
      "['Mumbai', 'Indians', ',', 'IPL', '(', 'Indian', 'Premier', 'League', ')', 'cricket', 'team', '.', 'The', 'Mumbai', 'Indians', '(', 'MI', ')', 'one', 'successful', 'popular', 'team', 'IPL', ',', 'owned', 'Mukesh', 'Ambani', \"'s\", 'Reliance', 'Industries', '.', 'They', 'IPL', 'title', 'multiple', 'time', ',', 'star', 'player', 'like', 'Rohit', 'Sharma', ',', 'Jasprit', 'Bumrah', ',', 'Kieron', 'Pollard', 'part', 'squad', '.']\n"
     ]
    }
   ],
   "source": [
    "from nltk.stem import WordNetLemmatizer\n",
    "lemmatizer=WordNetLemmatizer()\n",
    "\n",
    "new_token2=[]\n",
    "for token in new_token:\n",
    "    token=lemmatizer.lemmatize(token)\n",
    "    new_token2.append(token)\n",
    "print(new_token2)    "
   ]
  },
  {
   "cell_type": "code",
   "execution_count": 11,
   "id": "d1d83661-a653-4fa7-a710-039fdf338434",
   "metadata": {},
   "outputs": [
    {
     "name": "stdout",
     "output_type": "stream",
     "text": [
      "['mumbai', 'indian', ',', 'ipl', '(', 'indian', 'premier', 'leagu', ')', 'cricket', 'team', '.', 'the', 'mumbai', 'indian', '(', 'mi', ')', 'one', 'success', 'popular', 'team', 'ipl', ',', 'own', 'mukesh', 'ambani', \"'s\", 'relianc', 'industri', '.', 'they', 'ipl', 'titl', 'multipl', 'time', ',', 'star', 'player', 'like', 'rohit', 'sharma', ',', 'jasprit', 'bumrah', ',', 'kieron', 'pollard', 'part', 'squad', '.']\n"
     ]
    }
   ],
   "source": [
    "from nltk.stem import PorterStemmer\n",
    "from nltk.stem import WordNetLemmatizer\n",
    "stemmer=PorterStemmer()\n",
    "\n",
    "new_token3=[]\n",
    "for token in new_token2:\n",
    "    token=stemmer.stem(token)\n",
    "    new_token3.append(token)\n",
    "print(new_token3)    "
   ]
  },
  {
   "cell_type": "code",
   "execution_count": 17,
   "id": "3ad9ac5f-033a-4f2c-8761-83918517e00f",
   "metadata": {},
   "outputs": [
    {
     "name": "stdout",
     "output_type": "stream",
     "text": [
      "{'Mumbai': 0.0392156862745098, 'Indians': 0.0392156862745098, ',': 0.09803921568627451, 'the': 0.0784313725490196, 'IPL': 0.058823529411764705, '(': 0.0392156862745098, 'Indian': 0.0196078431372549, 'Premier': 0.0196078431372549, 'League': 0.0196078431372549, ')': 0.0392156862745098, 'cricket': 0.0196078431372549, 'team': 0.0196078431372549, '.': 0.058823529411764705, 'The': 0.0196078431372549, 'MI': 0.0196078431372549, 'are': 0.0196078431372549, 'one': 0.0196078431372549, 'of': 0.0392156862745098, 'most': 0.0196078431372549, 'successful': 0.0196078431372549, 'and': 0.0392156862745098, 'popular': 0.0196078431372549, 'teams': 0.0196078431372549, 'in': 0.0196078431372549, 'owned': 0.0196078431372549, 'by': 0.0196078431372549, 'Mukesh': 0.0196078431372549, 'Ambani': 0.0196078431372549, \"'s\": 0.0196078431372549, 'Reliance': 0.0196078431372549, 'Industries': 0.0196078431372549, 'They': 0.0196078431372549, 'have': 0.0196078431372549, 'won': 0.0196078431372549, 'title': 0.0196078431372549, 'multiple': 0.0196078431372549, 'times': 0.0196078431372549, 'with': 0.0196078431372549, 'star': 0.0196078431372549, 'players': 0.0196078431372549, 'like': 0.0196078431372549, 'Rohit': 0.0196078431372549, 'Sharma': 0.0196078431372549, 'Jasprit': 0.0196078431372549, 'Bumrah': 0.0196078431372549, 'Kieron': 0.0196078431372549, 'Pollard': 0.0196078431372549, 'being': 0.0196078431372549, 'part': 0.0196078431372549, 'their': 0.0196078431372549, 'squad': 0.0196078431372549}\n"
     ]
    }
   ],
   "source": [
    "tf_dict=dict()\n",
    "for word in tokens:\n",
    "    tf_dict[word]=tokens.count(word)\n",
    "tf=dict()\n",
    "for word,count in tf_dict.items():\n",
    "    tf[word]=count/len(tf_dict)\n",
    "\n",
    "print (tf)"
   ]
  },
  {
   "cell_type": "code",
   "execution_count": 18,
   "id": "867ca34b-2da4-4cf0-a4c1-2a31768ae01a",
   "metadata": {},
   "outputs": [
    {
     "name": "stdout",
     "output_type": "stream",
     "text": [
      "[('Mumbai', 'NNP'), ('Indians', 'NNPS'), (',', ','), ('the', 'DT'), ('IPL', 'NNP'), ('(', '('), ('Indian', 'JJ'), ('Premier', 'NNP'), ('League', 'NNP'), (')', ')'), ('cricket', 'NN'), ('team', 'NN'), ('.', '.'), ('The', 'DT'), ('Mumbai', 'NNP'), ('Indians', 'NNPS'), ('(', '('), ('MI', 'NNP'), (')', ')'), ('are', 'VBP'), ('one', 'CD'), ('of', 'IN'), ('the', 'DT'), ('most', 'RBS'), ('successful', 'JJ'), ('and', 'CC'), ('popular', 'JJ'), ('teams', 'NNS'), ('in', 'IN'), ('the', 'DT'), ('IPL', 'NNP'), (',', ','), ('owned', 'VBN'), ('by', 'IN'), ('Mukesh', 'NNP'), ('Ambani', 'NNP'), (\"'s\", 'POS'), ('Reliance', 'NNP'), ('Industries', 'NNPS'), ('.', '.'), ('They', 'PRP'), ('have', 'VBP'), ('won', 'VBN'), ('the', 'DT'), ('IPL', 'NNP'), ('title', 'NN'), ('multiple', 'JJ'), ('times', 'NNS'), (',', ','), ('with', 'IN'), ('star', 'NN'), ('players', 'NNS'), ('like', 'IN'), ('Rohit', 'NNP'), ('Sharma', 'NNP'), (',', ','), ('Jasprit', 'NNP'), ('Bumrah', 'NNP'), (',', ','), ('and', 'CC'), ('Kieron', 'NNP'), ('Pollard', 'NNP'), ('being', 'VBG'), ('part', 'NN'), ('of', 'IN'), ('their', 'PRP$'), ('squad', 'NN'), ('.', '.')]\n"
     ]
    }
   ],
   "source": [
    "pos=nltk.pos_tag(tokens)\n",
    "print(pos)"
   ]
  },
  {
   "cell_type": "code",
   "execution_count": null,
   "id": "4aabf1e0-7b10-44d1-a832-bd69b85d3887",
   "metadata": {},
   "outputs": [],
   "source": []
  }
 ],
 "metadata": {
  "kernelspec": {
   "display_name": "Python 3 (ipykernel)",
   "language": "python",
   "name": "python3"
  },
  "language_info": {
   "codemirror_mode": {
    "name": "ipython",
    "version": 3
   },
   "file_extension": ".py",
   "mimetype": "text/x-python",
   "name": "python",
   "nbconvert_exporter": "python",
   "pygments_lexer": "ipython3",
   "version": "3.11.3"
  }
 },
 "nbformat": 4,
 "nbformat_minor": 5
}
